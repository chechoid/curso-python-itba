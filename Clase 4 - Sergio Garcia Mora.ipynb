{
 "cells": [
  {
   "cell_type": "markdown",
   "metadata": {},
   "source": [
    "# Clase 4: Listas, tuplas y diccionarios\n",
    "\n",
    "# Listas y tuplas\n",
    "\n",
    "Las listas son un conjunto ordenado de variables que nos permite almacenar e interactuar tanto individualmente como en el conjunto.\n",
    " \n",
    "Para crear una lista se sigue el siguiente formato:\n",
    "```\n",
    "lista = [variable1, variable2, ... ]\n",
    "```\n",
    "Veamos un ejemplo:\n"
   ]
  },
  {
   "cell_type": "code",
   "execution_count": 1,
   "metadata": {},
   "outputs": [
    {
     "name": "stdout",
     "output_type": "stream",
     "text": [
      "[0, 1, 2, 'tres', 'cuatro', True, False, 0.5]\n"
     ]
    }
   ],
   "source": [
    "# Creo una lista con 8 variables\n",
    "lista = [0, 1, 2, \"tres\", 'cuatro', True, False, 0.5]\n",
    "\n",
    "print(lista)"
   ]
  },
  {
   "cell_type": "code",
   "execution_count": 3,
   "metadata": {},
   "outputs": [
    {
     "name": "stdout",
     "output_type": "stream",
     "text": [
      "[[0, 1, 2], ['tres', 'cuatro'], [True, False], 0.5]\n"
     ]
    }
   ],
   "source": [
    "# Las listas pueden contener a las listas\n",
    "lista = [[0,1,2], [\"tres\", \"cuatro\"], [True, False], 0.5]\n",
    "\n",
    "print(lista) # Esta lista contiene 4 elementos."
   ]
  },
  {
   "cell_type": "markdown",
   "metadata": {},
   "source": [
    "## List Comprehension\n",
    "\n",
    "También podemos crear una lista utilizando un mecanismo que se llama \"list comprehension\". Este utiliza la estructura for para crear una lista:\n",
    "```python\n",
    "lista = [variable for variable in iterable]\n",
    "```\n",
    "Veamos un ejemplo:"
   ]
  },
  {
   "cell_type": "code",
   "execution_count": 2,
   "metadata": {},
   "outputs": [
    {
     "name": "stdout",
     "output_type": "stream",
     "text": [
      "[0, 1, 2, 3]\n",
      "[0, 2, 4, 6]\n"
     ]
    }
   ],
   "source": [
    "# Creamos una lista con los valores 0, 1, 2, 3 \n",
    "lista = [x for x in range(0,4)]\n",
    "\n",
    "print(lista)\n",
    "\n",
    "# Creamos una lista con los valores 0, 2, 4, 6\n",
    "lista2 = [2*x for x in range(0,4)]\n",
    "\n",
    "print(lista2)"
   ]
  }
 ],
 "metadata": {
  "kernelspec": {
   "display_name": "Python 3",
   "language": "python",
   "name": "python3"
  },
  "language_info": {
   "codemirror_mode": {
    "name": "ipython",
    "version": 3
   },
   "file_extension": ".py",
   "mimetype": "text/x-python",
   "name": "python",
   "nbconvert_exporter": "python",
   "pygments_lexer": "ipython3",
   "version": "3.11.6"
  }
 },
 "nbformat": 4,
 "nbformat_minor": 2
}
