{
 "cells": [
  {
   "cell_type": "markdown",
   "metadata": {},
   "source": [
    "# Clase 2 - Curso Python ITBA\n",
    "## Ejercicios de Sergio Garcia Mora"
   ]
  },
  {
   "cell_type": "markdown",
   "metadata": {},
   "source": [
    "# Mini Desafíos"
   ]
  },
  {
   "cell_type": "markdown",
   "metadata": {},
   "source": [
    "## Mini Desafío 1\n",
    "\n",
    "Escribir un programa que reciba tres datos: Nombre, apellido y edad e imprima lo siguiente:\n",
    "\n",
    "NOMBRE APELLIDO nació hace EDAD años."
   ]
  },
  {
   "cell_type": "code",
   "execution_count": 1,
   "metadata": {},
   "outputs": [
    {
     "name": "stdout",
     "output_type": "stream",
     "text": [
      "Escriba su nombre:Sergio\n",
      "Escriba su apellido: Garcia Mora\n",
      "Cuántos años tiene?: 44\n",
      "Sergio Garcia Mora nació hace 44 años\n"
     ]
    }
   ],
   "source": [
    "# Crear los inputs\n",
    "nombre = input(\"Escriba su nombre:\")\n",
    "apellido = input(\"Escriba su apellido: \")\n",
    "edad = input(\"Cuántos años tiene?: \")\n",
    "\n",
    "print(nombre, apellido, \"nació hace\", edad, \"años\")"
   ]
  },
  {
   "cell_type": "markdown",
   "metadata": {},
   "source": [
    "## Mini Desafío 2\n",
    "\n",
    "Escribir un programa que pida al usuario el radio de un círculo en metros y calcule el área de un círculo 1m más pequeño."
   ]
  },
  {
   "cell_type": "code",
   "execution_count": 8,
   "metadata": {},
   "outputs": [
    {
     "name": "stdout",
     "output_type": "stream",
     "text": [
      "Escriba el radio de un círculo (en metros): 5\n",
      "El área del círculo es de 78.5 metros cuadrados\n",
      "Y si restamos 1 metro, el área es de 77.5 metros cuadrados\n"
     ]
    }
   ],
   "source": [
    "# Importo la librería 'math' para usar el valor de pi\n",
    "import math\n",
    "\n",
    "radio = input(\"Escriba el radio de un círculo (en metros): \")\n",
    "\n",
    "# Como el input lo ingresa como un string, convierto radio en un entero\n",
    "radio = int(radio)\n",
    "\n",
    "print(\"El área del círculo es de\", round(math.pi * radio ** 2,1), \"metros cuadrados\")\n",
    "print(\"Y si restamos 1 metro, el área es de\", round(math.pi* radio**2,1)-1, \"metros cuadrados\")"
   ]
  },
  {
   "cell_type": "markdown",
   "metadata": {},
   "source": [
    "## Mini Desafío 3\n",
    "\n",
    "En un mundo paralelo los minutos duran una cantidad arbitraria de segundos y el tiempo se mide unicamente en minutos, no existen las horas.\n",
    "\n",
    "Se pide escribir un programa que pida al usuario la duración de estos minutos y una cantidad de segundos.\n",
    "\n",
    "La salida del programa debe ser `X segundos son MINUTOS:SEGUNDOS`. Ejemplo:\n",
    "\n",
    "* `>>> Ingrese segundos por minuto: 15`\n",
    "* `>>> Ingrese la cantidad de segundos: 100`\n",
    "* `100 segundos son 6:10`\n",
    "\n",
    "**NOTA**: `>>>` significa que el programa pidió un input al usuario."
   ]
  },
  {
   "cell_type": "code",
   "execution_count": 24,
   "metadata": {},
   "outputs": [
    {
     "name": "stdout",
     "output_type": "stream",
     "text": [
      "Cuántos segundos por minuto hay en su mundo?: 15\n",
      "Cuántos segundos quiere calcular?: 100\n",
      "100 segundos son 6:10\n"
     ]
    }
   ],
   "source": [
    "# Requerir los inputs\n",
    "\n",
    "segundo = input('Cuántos segundos por minuto hay en su mundo?: ')\n",
    "calculo_segundos = input('Cuántos segundos quiere calcular?: ')\n",
    "\n",
    "# Transformar a entero\n",
    "segundo = int(segundo)\n",
    "calculo_segundos = int(calculo_segundos)\n",
    "\n",
    "# Calculo la cantidad de minutos por segundo\n",
    "minuto = calculo_segundos//segundo\n",
    "\n",
    "# Obtengo el resto de la división\n",
    "resto = calculo_segundos%segundo\n",
    "\n",
    "# Imprimo la salida\n",
    "print(f\"{calculo_segundos} segundos son {minuto}:{resto}\")"
   ]
  },
  {
   "cell_type": "markdown",
   "metadata": {},
   "source": [
    "## Mini Desafío 4\n",
    "\n",
    "Una fabrica de caños produce dos productos, un caño de 1.5m y otro de 3m. En el control de calidad se busca que la medida no difiera en mas de 1cm de la longitud esperada.\n",
    "\n",
    "El manager te pidio realizar un programa en el que la persona de calidad pueda ingresar la longitud de un caño en centimetros y le diga si esta en regla o no. Para ello unicamente podes utilizar 3 lineas de codigo y la ultima debe ser:\n",
    "\n",
    "`print('El caño esta en regla:', en_regla)`"
   ]
  },
  {
   "cell_type": "code",
   "execution_count": 31,
   "metadata": {},
   "outputs": [
    {
     "name": "stdout",
     "output_type": "stream",
     "text": [
      "Ingrese la longitud del caño (en cm): 299\n",
      "\n",
      "El caño está en regla: 299 centimetros\n"
     ]
    }
   ],
   "source": [
    "# Ingresar el input en centímetros y convertirlo a integer\n",
    "centimetros = int(input(\"Ingrese la longitud del caño (en cm): \"))\n",
    "\n",
    "# Comparar los resultados\n",
    "en_regla = centimetros <= 151  and centimetros >= 149 or centimetros <= 301 and centimetros >= 299\n",
    "\n",
    "if en_regla == True:\n",
    "    print('\\nEl caño está en regla:', centimetros, \"centimetros\")"
   ]
  },
  {
   "cell_type": "markdown",
   "metadata": {},
   "source": [
    "## Mini Desafío 5\n",
    "\n",
    "Ahora el manager del desafío 4 nos permite utilizar más lineas de código pero el programa debe tener las siguientes salidas:\n",
    "\n",
    "* Si el caño esta en regla:\n",
    "** El caño esta en regla.\n",
    "* Si no esta en regla:\n",
    "** El caño no cumple la tolerancia de calidad."
   ]
  },
  {
   "cell_type": "code",
   "execution_count": null,
   "metadata": {},
   "outputs": [],
   "source": [
    "# Ingresar el input en centímetros y convertirlo a integer\n",
    "centimetros = int(input(\"Ingrese la longitud del caño (en cm): \"))\n",
    "\n",
    "# Comparar los resultados\n",
    "en_regla = centimetros <= 151  and centimetros >= 149 or centimetros <= 301 and centimetros >= 299\n",
    "\n",
    "if en_regla == True:\n",
    "    print('\\nEl caño está en regla:', centimetros, \"centimetros\")\n",
    "else:\n",
    "    print('\\nEl caño no está en regla, sorry not sorry')"
   ]
  },
  {
   "cell_type": "markdown",
   "metadata": {},
   "source": [
    "## Mini desafío 6\n",
    "\n",
    "Realizar una función que reciba un pais y un dato que se quiera (Población o Superfice), y devuelva este dato. Implementar para 5 paises.\n",
    "\n",
    "Ejemplo:\n",
    "\n",
    "* `>>> Ingrese el pais: Argentina`\n",
    "* `>>> Ingrese el dato: Superficie`\n",
    "* `2780000 km2`"
   ]
  },
  {
   "cell_type": "code",
   "execution_count": 37,
   "metadata": {},
   "outputs": [
    {
     "ename": "SyntaxError",
     "evalue": "invalid syntax (<ipython-input-37-ccbc38e17ad1>, line 19)",
     "output_type": "error",
     "traceback": [
      "\u001b[1;36m  File \u001b[1;32m\"<ipython-input-37-ccbc38e17ad1>\"\u001b[1;36m, line \u001b[1;32m19\u001b[0m\n\u001b[1;33m    elif a == br:\u001b[0m\n\u001b[1;37m    ^\u001b[0m\n\u001b[1;31mSyntaxError\u001b[0m\u001b[1;31m:\u001b[0m invalid syntax\n"
     ]
    }
   ],
   "source": [
    "# Ingreso los nombres de 5 países\n",
    "ar = \"Argentina\"\n",
    "br = \"Brasil\"\n",
    "cl = \"Chile\"\n",
    "py = \"Paraguay\"\n",
    "uy = \"Uruguay\"\n",
    "\n",
    "\n",
    "# Guardo la población de cada país\n",
    "ar_pob = 46044703\n",
    "br_pob = 214326223\n",
    "cl_pob = 19493184\n",
    "py_pob = 7453695\n",
    "uy_pob = 3286314\n",
    "\n",
    "# Guardo las superficies de cada país\n",
    "ar_sup = 2780085\n",
    "br_sup = 8511965\n",
    "cl_sup = 756626\n",
    "py_sup = 406752\n",
    "uy_sup = 176215\n",
    "\n",
    "\n",
    "# Defino la función\n",
    "#def pais(a, b):\n",
    "#    pais = a\n",
    "#    dato = b\n",
    "    "
   ]
  },
  {
   "cell_type": "markdown",
   "metadata": {},
   "source": [
    "# Desafíos Integradores"
   ]
  },
  {
   "cell_type": "markdown",
   "metadata": {},
   "source": [
    "## 1. Calculadora\n",
    "\n",
    "Implementar una calculadora que reciba dos números y un operador para devolver el resultado.\n",
    "\n",
    "Ejemplo 1:\n",
    "\n",
    "* `>>> 123`\n",
    "* `>>> +`\n",
    "* `>>> 456`\n",
    "* `579`\n",
    "\n",
    "Ejemplo 2:\n",
    "\n",
    "* `>>> 4`\n",
    "* `>>> *`\n",
    "* `>>> 2`\n",
    "* `8`"
   ]
  },
  {
   "cell_type": "code",
   "execution_count": 38,
   "metadata": {},
   "outputs": [],
   "source": [
    "# Defino la función\n",
    "def calculadora(n1, op, n2):\n",
    "    if op == \"+\":\n",
    "        return n1 + n2\n",
    "    elif op == \"-\":\n",
    "        return n1 - n2\n",
    "    elif op == \"*\":\n",
    "        return n1 * n2\n",
    "    elif op == \"/\":\n",
    "        return n1/n2\n",
    "    else:\n",
    "        return print(\"Te la debo\")        "
   ]
  },
  {
   "cell_type": "code",
   "execution_count": 44,
   "metadata": {},
   "outputs": [
    {
     "data": {
      "text/plain": [
       "8"
      ]
     },
     "execution_count": 44,
     "metadata": {},
     "output_type": "execute_result"
    }
   ],
   "source": [
    "# Probamos la función\n",
    "calculadora(2,\"*\", 4)"
   ]
  },
  {
   "cell_type": "code",
   "execution_count": 43,
   "metadata": {},
   "outputs": [
    {
     "data": {
      "text/plain": [
       "9.0"
      ]
     },
     "execution_count": 43,
     "metadata": {},
     "output_type": "execute_result"
    }
   ],
   "source": [
    "calculadora(54, \"/\", 6)"
   ]
  },
  {
   "cell_type": "code",
   "execution_count": 45,
   "metadata": {},
   "outputs": [
    {
     "data": {
      "text/plain": [
       "10"
      ]
     },
     "execution_count": 45,
     "metadata": {},
     "output_type": "execute_result"
    }
   ],
   "source": [
    "calculadora(2,\"+\", 8)"
   ]
  },
  {
   "cell_type": "code",
   "execution_count": 46,
   "metadata": {},
   "outputs": [
    {
     "data": {
      "text/plain": [
       "-4"
      ]
     },
     "execution_count": 46,
     "metadata": {},
     "output_type": "execute_result"
    }
   ],
   "source": [
    "calculadora(10, \"-\", 14)"
   ]
  },
  {
   "cell_type": "markdown",
   "metadata": {},
   "source": [
    "## 2. Promediador\n",
    "\n",
    "Escribir una función que reciba 4 números y calcule el promedio de las notas. Tomando cada nota con el mismo peso.\n",
    "\n",
    "**Extra**: Utilizar la función anterior para escribir otra función que permita calcular el promedio pero con un peso distinto en cada nota."
   ]
  },
  {
   "cell_type": "code",
   "execution_count": 49,
   "metadata": {},
   "outputs": [],
   "source": [
    "def promediador(n1, n2, n3, n4):\n",
    "    promedio = (n1 + n2 + n3 + n4)/4\n",
    "    return print(promedio)"
   ]
  },
  {
   "cell_type": "code",
   "execution_count": 50,
   "metadata": {},
   "outputs": [
    {
     "name": "stdout",
     "output_type": "stream",
     "text": [
      "44.0\n"
     ]
    }
   ],
   "source": [
    "# Testeo la función\n",
    "promediador(10, 56, 87, 23)"
   ]
  },
  {
   "cell_type": "code",
   "execution_count": 3,
   "metadata": {},
   "outputs": [],
   "source": [
    "# Extra\n",
    "\n",
    "# Defino la función ingresa números y los pesos\n",
    "def prom_pon(n1, n2, n3, n4, p1, p2, p3, p4, base = 10):\n",
    "    puntos = (n1 * p1) + (n2 * p2) + (n3 * p3) + (n4 * p4)\n",
    "    promedio_ponderado = round(puntos/base,2)\n",
    "    return print(promedio_ponderado)"
   ]
  },
  {
   "cell_type": "code",
   "execution_count": 8,
   "metadata": {},
   "outputs": [
    {
     "name": "stdout",
     "output_type": "stream",
     "text": [
      "5.2\n"
     ]
    }
   ],
   "source": [
    "# Testeo la función\n",
    "prom_pon(7,6,5,4, 2,2, 2, 4)"
   ]
  },
  {
   "cell_type": "code",
   "execution_count": 9,
   "metadata": {},
   "outputs": [
    {
     "name": "stdout",
     "output_type": "stream",
     "text": [
      "48.0\n"
     ]
    }
   ],
   "source": [
    "# Testeo la función cambiando el parámetro de base\n",
    "prom_pon(80, 60, 20, 40, 20, 20, 20, 40, base = 100)"
   ]
  },
  {
   "cell_type": "code",
   "execution_count": 10,
   "metadata": {},
   "outputs": [],
   "source": [
    "# Mejor versión\n",
    "def promedio_ponderado(n1, n2, n3, n4, p1, p2, p3, p4):\n",
    "    puntos = (n1 * p1) + (n2 * p2) + (n3 * p3) + (n4 * p4)\n",
    "    base = p1 + p2 + p3 + p4\n",
    "    promedio_ponderado = round(puntos/base, 2)\n",
    "    return print(promedio_ponderado)"
   ]
  },
  {
   "cell_type": "code",
   "execution_count": 12,
   "metadata": {},
   "outputs": [
    {
     "name": "stdout",
     "output_type": "stream",
     "text": [
      "46.3\n"
     ]
    }
   ],
   "source": [
    "# Testeo la función\n",
    "promedio_ponderado(78, 86, 22, 23, 0.2, 0.2, 0.3, 0.3)"
   ]
  },
  {
   "cell_type": "markdown",
   "metadata": {},
   "source": [
    "## Calculadora 2.0\n",
    "\n",
    "Agregar a la calculadora anterior el chequeo de que la operación sea valida y no genere error, como una división por cero."
   ]
  },
  {
   "cell_type": "code",
   "execution_count": 23,
   "metadata": {},
   "outputs": [],
   "source": [
    "# Función para realizar operaciones matemáticas\n",
    "def calc2(num1, num2, operador):\n",
    "    if operador == '+':\n",
    "        return num1 + num2\n",
    "    elif operador == '-':\n",
    "        return num1 - num2\n",
    "    elif operador == '*':\n",
    "        return num1 * num2\n",
    "    elif operador == '/':\n",
    "        if num2 == 0:\n",
    "            return \"Error: No se puede dividir por cero\"\n",
    "        return num1 / num2\n",
    "    else:\n",
    "        return \"Operador no válido, ingrese un operador válido dentro de comillas ('+', '-', '*', '/')\""
   ]
  },
  {
   "cell_type": "code",
   "execution_count": 14,
   "metadata": {},
   "outputs": [
    {
     "data": {
      "text/plain": [
       "27"
      ]
     },
     "execution_count": 14,
     "metadata": {},
     "output_type": "execute_result"
    }
   ],
   "source": [
    "# Testeo la función\n",
    "calc2(12, 15, \"+\")"
   ]
  },
  {
   "cell_type": "code",
   "execution_count": 18,
   "metadata": {},
   "outputs": [
    {
     "data": {
      "text/plain": [
       "'Error: No se puede dividir por cero'"
      ]
     },
     "execution_count": 18,
     "metadata": {},
     "output_type": "execute_result"
    }
   ],
   "source": [
    "# Testeo la función\n",
    "calc2(7, 0, \"/\")"
   ]
  },
  {
   "cell_type": "code",
   "execution_count": 21,
   "metadata": {},
   "outputs": [
    {
     "data": {
      "text/plain": [
       "45"
      ]
     },
     "execution_count": 21,
     "metadata": {},
     "output_type": "execute_result"
    }
   ],
   "source": [
    "# Testeo la función\n",
    "calc2(52, 7, \"/\")\n"
   ]
  },
  {
   "cell_type": "code",
   "execution_count": 24,
   "metadata": {},
   "outputs": [
    {
     "data": {
      "text/plain": [
       "\"Operador no válido, ingrese un operador válido dentro de comillas ('+', '-', '*', '/')\""
      ]
     },
     "execution_count": 24,
     "metadata": {},
     "output_type": "execute_result"
    }
   ],
   "source": [
    "# Testeo la función generando un error a propósito\n",
    "calc2(64, 8, \"$\")"
   ]
  },
  {
   "cell_type": "markdown",
   "metadata": {},
   "source": [
    "## Fibonacci\n",
    "\n",
    "La [sucesión de fibonacci](https://es.wikipedia.org/wiki/Sucesi%C3%B3n_de_Fibonacci) es una secuencia númerica en la que los dos números anteriores son sumados para formar el siguiente. La secuencia se inicializa con los números 0 y 1 dando lugar a:\n",
    "\n",
    "$0,1,1,2,3,5,8,13,21,34,...$\n",
    "\n",
    "Se pide escribir un programa que calcule el numero `n` de la secuencia siendo $n=0 \\rightarrow 0$, $n=1 \\rightarrow 1$, $n=2 \\rightarrow 1$, $n=3 \\rightarrow 3$, etc.\n",
    "\n",
    "Este es un ejercicio dificil para resolverlo van a necesitar [recursion](https://es.wikipedia.org/wiki/Recursi%C3%B3n), es tarea opcional estudiar este concepto."
   ]
  },
  {
   "cell_type": "code",
   "execution_count": 25,
   "metadata": {},
   "outputs": [],
   "source": [
    "# Función para calcular la serie de Fibonacci hasta n iteraciones\n",
    "def fibonacci(n):\n",
    "    fibonacci_series = [0, 1]  # Inicializamos la serie con los primeros dos números de Fibonacci\n",
    "\n",
    "    while len(fibonacci_series) < n:\n",
    "        # Calculamos el siguiente número de Fibonacci sumando los dos últimos números\n",
    "        next_number = fibonacci_series[-1] + fibonacci_series[-2]\n",
    "        fibonacci_series.append(next_number)\n",
    "\n",
    "    return fibonacci_series"
   ]
  },
  {
   "cell_type": "code",
   "execution_count": 26,
   "metadata": {},
   "outputs": [
    {
     "name": "stdout",
     "output_type": "stream",
     "text": [
      "Ingrese la cantidad de iteraciones para la serie de Fibonacci: 8\n",
      "Serie de Fibonacci con 8 iteraciones: [0, 1, 1, 2, 3, 5, 8, 13]\n"
     ]
    }
   ],
   "source": [
    "# Solicitar al usuario la cantidad de iteraciones deseadas\n",
    "n = int(input(\"Ingrese la cantidad de iteraciones para la serie de Fibonacci: \"))\n",
    "\n",
    "# Verificar si el valor de n es válido\n",
    "if n <= 0:\n",
    "    print(\"Por favor, ingrese un número válido mayor que cero.\")\n",
    "else:\n",
    "    # Calcular y mostrar la serie de Fibonacci\n",
    "    resultado = fibonacci(n)\n",
    "    print(\"Serie de Fibonacci con\", n, \"iteraciones:\", resultado)\n"
   ]
  }
 ],
 "metadata": {
  "kernelspec": {
   "display_name": "Python 3 (ipykernel)",
   "language": "python",
   "name": "python3"
  },
  "language_info": {
   "codemirror_mode": {
    "name": "ipython",
    "version": 3
   },
   "file_extension": ".py",
   "mimetype": "text/x-python",
   "name": "python",
   "nbconvert_exporter": "python",
   "pygments_lexer": "ipython3",
   "version": "3.11.4"
  }
 },
 "nbformat": 4,
 "nbformat_minor": 4
}
