{
 "cells": [
  {
   "cell_type": "markdown",
   "metadata": {},
   "source": [
    "# Clase 4: Listas, tuplas y diccionarios\n",
    "\n",
    "# Listas y tuplas\n",
    "\n",
    "Las listas son un conjunto ordenado de variables que nos permite almacenar e interactuar tanto individualmente como en el conjunto.\n",
    " \n",
    "Para crear una lista se sigue el siguiente formato:\n",
    "```\n",
    "lista = [variable1, variable2, ... ]\n",
    "```\n",
    "Veamos un ejemplo:\n"
   ]
  },
  {
   "cell_type": "code",
   "execution_count": 1,
   "metadata": {},
   "outputs": [
    {
     "name": "stdout",
     "output_type": "stream",
     "text": [
      "[0, 1, 2, 'tres', 'cuatro', True, False, 0.5]\n"
     ]
    }
   ],
   "source": [
    "# Creo una lista con 8 variables\n",
    "lista = [0, 1, 2, \"tres\", 'cuatro', True, False, 0.5]\n",
    "\n",
    "print(lista)"
   ]
  },
  {
   "cell_type": "code",
   "execution_count": 3,
   "metadata": {},
   "outputs": [
    {
     "name": "stdout",
     "output_type": "stream",
     "text": [
      "[[0, 1, 2], ['tres', 'cuatro'], [True, False], 0.5]\n"
     ]
    }
   ],
   "source": [
    "# Las listas pueden contener a las listas\n",
    "lista = [[0,1,2], [\"tres\", \"cuatro\"], [True, False], 0.5]\n",
    "\n",
    "print(lista) # Esta lista contiene 4 elementos."
   ]
  },
  {
   "cell_type": "code",
   "execution_count": 4,
   "metadata": {},
   "outputs": [
    {
     "name": "stdout",
     "output_type": "stream",
     "text": [
      "[0, 1, 2]\n"
     ]
    }
   ],
   "source": [
    "# Imprimo el primer elemento de la lista\n",
    "print(lista[0])"
   ]
  },
  {
   "cell_type": "code",
   "execution_count": 7,
   "metadata": {},
   "outputs": [
    {
     "name": "stdout",
     "output_type": "stream",
     "text": [
      "[[0, 1, 2], ['tres', 'cuatro']]\n",
      "[0.5, [True, False], ['tres', 'cuatro'], [0, 1, 2]]\n"
     ]
    }
   ],
   "source": [
    "# Slice de la lista\n",
    "print(lista[0:2])\n",
    "\n",
    "# Si quiero todos los elementos de la lista ordenados al revés\n",
    "print(lista[::-1])"
   ]
  },
  {
   "cell_type": "markdown",
   "metadata": {},
   "source": [
    "## List Comprehension\n",
    "\n",
    "También podemos crear una lista utilizando un mecanismo que se llama \"list comprehension\". Este utiliza la estructura for para crear una lista:\n",
    "```python\n",
    "lista = [variable for variable in iterable]\n",
    "```\n",
    "Veamos un ejemplo:"
   ]
  },
  {
   "cell_type": "code",
   "execution_count": 2,
   "metadata": {},
   "outputs": [
    {
     "name": "stdout",
     "output_type": "stream",
     "text": [
      "[0, 1, 2, 3]\n",
      "[0, 2, 4, 6]\n"
     ]
    }
   ],
   "source": [
    "# Creamos una lista con los valores 0, 1, 2, 3 \n",
    "lista = [x for x in range(0,4)]\n",
    "\n",
    "print(lista)\n",
    "\n",
    "# Creamos una lista con los valores 0, 2, 4, 6\n",
    "lista2 = [2*x for x in range(0,4)]\n",
    "\n",
    "print(lista2)"
   ]
  },
  {
   "cell_type": "markdown",
   "metadata": {},
   "source": [
    "### Operaciones con Listas\n",
    "\n",
    "Al igual que con las strings, podemos realizar operaciones con las listas. Por ejemplo, sumar dos listas:"
   ]
  },
  {
   "cell_type": "code",
   "execution_count": 2,
   "metadata": {},
   "outputs": [
    {
     "name": "stdout",
     "output_type": "stream",
     "text": [
      "[1, 2, 3, 4]\n"
     ]
    }
   ],
   "source": [
    "a = [1, 2]\n",
    "b = [3, 4]\n",
    "c = a + b\n",
    "\n",
    "print(c)"
   ]
  },
  {
   "cell_type": "markdown",
   "metadata": {},
   "source": [
    "Verificar si un elemento se encuentra en una lista"
   ]
  },
  {
   "cell_type": "code",
   "execution_count": 3,
   "metadata": {},
   "outputs": [
    {
     "name": "stdout",
     "output_type": "stream",
     "text": [
      "True\n",
      "False\n",
      "False\n"
     ]
    }
   ],
   "source": [
    "a = [1,2,3,4,5]\n",
    "\n",
    "print(4  in a)\n",
    "print(9 in a)\n",
    "print(2 not in a)"
   ]
  },
  {
   "cell_type": "markdown",
   "metadata": {},
   "source": [
    "### Funciones de listas\n",
    "\n",
    "Las listas tienen funciones dentro de ellas que podemos utilizar de la siguiente manera:\n",
    "\n",
    "`lista.funcion(paramentros)`"
   ]
  },
  {
   "cell_type": "code",
   "execution_count": 7,
   "metadata": {},
   "outputs": [
    {
     "name": "stdout",
     "output_type": "stream",
     "text": [
      "[0, 1, 2, 3]\n"
     ]
    }
   ],
   "source": [
    "# Crear una lista con los valores 0,1,2,3\n",
    "lista = [x for x in range(4)]\n",
    "\n",
    "print(lista)\n",
    "\n",
    "# Dar vuelta la lista\n",
    "lista.reverse()"
   ]
  },
  {
   "cell_type": "markdown",
   "metadata": {},
   "source": [
    "También podemos agregar o quitar valores"
   ]
  },
  {
   "cell_type": "code",
   "execution_count": 9,
   "metadata": {},
   "outputs": [
    {
     "name": "stdout",
     "output_type": "stream",
     "text": [
      "[0, 1]\n",
      "[0, 1, 10, 1]\n",
      "[0, 10, 1]\n"
     ]
    }
   ],
   "source": [
    "lista = [0,1]\n",
    "\n",
    "print(lista)\n",
    "\n",
    "# Agregamos el valor 10 al final de la lista\n",
    "lista.append(10)\n",
    "lista.append(1)\n",
    "print(lista)\n",
    "\n",
    "# Sacamos la primera ocurrencia del valor 1\n",
    "lista.remove(1)\n",
    "\n",
    "print(lista)"
   ]
  },
  {
   "cell_type": "code",
   "execution_count": 13,
   "metadata": {},
   "outputs": [
    {
     "name": "stdout",
     "output_type": "stream",
     "text": [
      "[6, 7, 8, 9, 10]\n",
      "['no', 'no', 'no', 'no', 'no', 'no', 6, 7, 8, 9, 10]\n"
     ]
    }
   ],
   "source": [
    "# Agregar valores mayores a 5\n",
    "lista = [n for n in range(0,11) if n > 5]\n",
    "\n",
    "print(lista)\n",
    "\n",
    "# Agregar valores según condición\n",
    "lista2 = [n if n > 4 else \"no\" for n in range(0,11)]\n",
    "print(lista2)"
   ]
  },
  {
   "cell_type": "markdown",
   "metadata": {},
   "source": [
    "Puedo agregar elementos a una lista que cumplan con determinadas condiciones"
   ]
  },
  {
   "cell_type": "markdown",
   "metadata": {},
   "source": [
    "## Mini desafío 1\n",
    "\n",
    "Utilizando *list comprehension* multiplicar cada variable por un número ingresado por el usuario de la siguiente lista\n",
    "\n",
    "`lista = [1,3,5,7,13,17]`"
   ]
  },
  {
   "cell_type": "code",
   "execution_count": 10,
   "metadata": {},
   "outputs": [
    {
     "name": "stdout",
     "output_type": "stream",
     "text": [
      "[4, 12, 20, 28, 52, 68]\n"
     ]
    }
   ],
   "source": [
    "lista = [1,3,5,7,13,17]\n",
    "\n",
    "valor = int(input(\"Ingrese un número: \"))\n",
    "\n",
    "lista2 = [valor*x for x in lista]\n",
    "print(lista2)"
   ]
  },
  {
   "cell_type": "markdown",
   "metadata": {},
   "source": [
    "## Mini desafío 2\n",
    "\n",
    "Imprimir de la lista las siguientes cosas:\n",
    "\n",
    "* La primera mitad de la lista\n",
    "* La lista ordenada de mayor a menor\n",
    "* La lista ordenada de menor a mayor\n",
    "* La segunda mitdad de la lista ordenada de mayor a menor.\n",
    "\n",
    "La lista es la siguiente\n",
    "`lista = [14,3,6,27]`"
   ]
  },
  {
   "cell_type": "code",
   "execution_count": 42,
   "metadata": {},
   "outputs": [
    {
     "name": "stdout",
     "output_type": "stream",
     "text": [
      "[14, 3]\n",
      "[14, 3]\n",
      "[3, 6, 14, 27]\n",
      "[27, 14, 6, 3]\n",
      "[6, 3]\n"
     ]
    }
   ],
   "source": [
    "lista = [14, 3, 6, 27]\n",
    "\n",
    "# Imprimir la mitad de la lista\n",
    "# Forma fácil\n",
    "print(lista[0:2])\n",
    "\n",
    "# Forma rebuscada\n",
    "mitad = int(len(lista)/2)\n",
    "print(lista[0:mitad])\n",
    "\n",
    "# Imprimir lista ordenada de menor a mayor\n",
    "lista.sort()\n",
    "print(lista)\n",
    "\n",
    "# Imprimir lista ordenada de mayor a menor\n",
    "lista.sort(reverse = True)\n",
    "print(lista)\n",
    "\n",
    "# Imprimir segunda mitad de la lista, ordenada de mayor a menor\n",
    "lista.sort(reverse = True)\n",
    "print(lista[2:4])"
   ]
  }
 ],
 "metadata": {
  "kernelspec": {
   "display_name": "Python 3",
   "language": "python",
   "name": "python3"
  },
  "language_info": {
   "codemirror_mode": {
    "name": "ipython",
    "version": 3
   },
   "file_extension": ".py",
   "mimetype": "text/x-python",
   "name": "python",
   "nbconvert_exporter": "python",
   "pygments_lexer": "ipython3",
   "version": "3.11.6"
  }
 },
 "nbformat": 4,
 "nbformat_minor": 2
}
