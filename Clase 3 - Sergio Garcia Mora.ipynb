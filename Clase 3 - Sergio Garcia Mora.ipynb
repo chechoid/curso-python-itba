{
 "cells": [
  {
   "cell_type": "markdown",
   "metadata": {},
   "source": [
    "# Clase 3 \n",
    "## Loops, strings, iteraciones\n",
    "### Práctica desarrollada por Sergio Garcia Mora"
   ]
  },
  {
   "cell_type": "markdown",
   "metadata": {},
   "source": [
    "Estructura de un `if`"
   ]
  },
  {
   "cell_type": "code",
   "execution_count": 3,
   "metadata": {},
   "outputs": [
    {
     "name": "stdout",
     "output_type": "stream",
     "text": [
      "El número es cero\n"
     ]
    }
   ],
   "source": [
    "# Obtengo input del usuario y lo convierto a entero\n",
    "numero = int(input(\"Ingrese un número: \"))\n",
    "\n",
    "# Generar un resultado si el número es mayor que 0\n",
    "if numero > 0:\n",
    "    print(\"El número es positivo\")\n",
    "\n",
    "# Resultado si input es menor que 0\n",
    "elif numero < 0:\n",
    "    print(\"El número es negativo\")\n",
    "\n",
    "# Si no cumple con las dos condiciones anteriores\n",
    "else: \n",
    "    print(\"El número es cero\")\n"
   ]
  },
  {
   "cell_type": "markdown",
   "metadata": {},
   "source": [
    "## Estructura `while`\n",
    "\n",
    "La estructura `while` nos permite ejecutar **loops** ejecutando una serie de código mientras se cumpla una condición.\n",
    "\n",
    "Una forma es mediante el `while`, el código itera *mientras* se cumpla una condición.\n",
    "\n",
    "Otra forma es mediante el `for`, que se agota cuando termina la variable.\n",
    "\n"
   ]
  },
  {
   "cell_type": "code",
   "execution_count": 5,
   "metadata": {},
   "outputs": [
    {
     "name": "stdout",
     "output_type": "stream",
     "text": [
      "7\n",
      "6\n",
      "5\n",
      "4\n",
      "3\n",
      "2\n",
      "1\n"
     ]
    }
   ],
   "source": [
    "# Obtengo un input del pare del usuario y lo convierto a un entero.\n",
    "\n",
    "numero = int(input(\"Ingrese un número: \"))\n",
    "\n",
    "# Mientras el número es > 0\n",
    "while numero > 0:\n",
    "    # Imprimo el número\n",
    "    print(numero)\n",
    "    # Resto 1 para que itere\n",
    "    numero -= 1    # de esta forma indico que al resultado le reste 1 en cada iteración"
   ]
  },
  {
   "cell_type": "markdown",
   "metadata": {},
   "source": [
    "## Mini Desafío 1\n",
    "\n",
    "Desarrollar un programa que permita al usuario ingresar un número y que devuelva la suma de todos los números de 0 hasta ese número"
   ]
  },
  {
   "cell_type": "code",
   "execution_count": 6,
   "metadata": {},
   "outputs": [
    {
     "name": "stdout",
     "output_type": "stream",
     "text": [
      "La suma de todos los números desde 0 hasta 8 es: 36\n"
     ]
    }
   ],
   "source": [
    "# Pedimos al usuario que ingrese un número\n",
    "numero = int(input(\"Ingresa un número: \"))\n",
    "\n",
    "# Inicializamos la variable suma\n",
    "suma = 0\n",
    "\n",
    "# Usamos un bucle while para sumar los números desde 0 hasta el número ingresado\n",
    "i = 0\n",
    "while i <= numero:\n",
    "    suma += i\n",
    "    i += 1\n",
    "\n",
    "# Mostramos la suma\n",
    "print(\"La suma de todos los números desde 0 hasta\", numero, \"es:\", suma)\n"
   ]
  },
  {
   "cell_type": "markdown",
   "metadata": {},
   "source": [
    "## Estructura `for`\n",
    "\n",
    "La estructura `for` nos permite iterar por los elementos de un array o de una lista.\n",
    "\n",
    "for variable in conjunto:\n",
    "    # Lo que quiero que haga"
   ]
  },
  {
   "cell_type": "code",
   "execution_count": 7,
   "metadata": {},
   "outputs": [
    {
     "name": "stdout",
     "output_type": "stream",
     "text": [
      "0\n",
      "1\n",
      "2\n",
      "3\n"
     ]
    }
   ],
   "source": [
    "# Por cada x en el rango de 0 a 4\n",
    "for x in range(0, 4):\n",
    "    # Imprimo x\n",
    "    print(x)"
   ]
  },
  {
   "cell_type": "code",
   "execution_count": 8,
   "metadata": {},
   "outputs": [
    {
     "name": "stdout",
     "output_type": "stream",
     "text": [
      "0\n",
      "2\n",
      "4\n",
      "6\n",
      "8\n",
      "10\n"
     ]
    }
   ],
   "source": [
    "# Cambiando el paso\n",
    "for x in range(0, 11, 2):\n",
    "    print(x)"
   ]
  },
  {
   "cell_type": "code",
   "execution_count": 9,
   "metadata": {},
   "outputs": [
    {
     "name": "stdout",
     "output_type": "stream",
     "text": [
      "h\n",
      "o\n",
      "l\n",
      "a\n"
     ]
    }
   ],
   "source": [
    "# También aplica a strings\n",
    "for x in \"hola\":\n",
    "    print(x)"
   ]
  },
  {
   "cell_type": "markdown",
   "metadata": {},
   "source": [
    "## Mini desafío 2\n",
    "\n",
    "Escribir un programa que devuelva la suma de todos los valores pares entre 0 y un número. Utilizar un `for` para resolver el problema."
   ]
  },
  {
   "cell_type": "code",
   "execution_count": 11,
   "metadata": {},
   "outputs": [
    {
     "name": "stdout",
     "output_type": "stream",
     "text": [
      "La suma de todos los valores pares entre 0 y 6 es: 12\n"
     ]
    }
   ],
   "source": [
    "# Pedimos al usuario que ingrese un número\n",
    "numero = int(input(\"Ingresa un número: \"))\n",
    "\n",
    "# Inicializamos la variable suma\n",
    "suma_pares = 0\n",
    "\n",
    "# Utilizamos un bucle for para iterar a través de los números desde 0 hasta el número ingresado\n",
    "for i in range(numero + 1):  # Utilizamos numero + 1 para incluir el número ingresado en el rango\n",
    "    if i % 2 == 0:  # Verificamos si el número es par\n",
    "        suma_pares += i  # Sumamos el número par a la suma total\n",
    "\n",
    "# Mostramos la suma de los números pares\n",
    "print(\"La suma de todos los valores pares entre 0 y\", numero, \"es:\", suma_pares)\n"
   ]
  },
  {
   "cell_type": "markdown",
   "metadata": {},
   "source": [
    "## Mini desafío 3\n",
    "\n",
    "Escribir un programa que genere la siguiente iteración:\n",
    "\n",
    ">>> Ingrese la cuenta regresiva: 3\n",
    "3\n",
    "2\n",
    "1\n",
    "Despegue!"
   ]
  },
  {
   "cell_type": "code",
   "execution_count": 14,
   "metadata": {},
   "outputs": [
    {
     "name": "stdout",
     "output_type": "stream",
     "text": [
      "5\n",
      "4\n",
      "3\n",
      "2\n",
      "1\n",
      "Despegue!\n"
     ]
    }
   ],
   "source": [
    "# Ingrese un input de cuenta regresiva\n",
    "numero = int(input(\"Inicie la cuenta regresiva: \"))\n",
    "\n",
    " \n",
    "while numero > 0:\n",
    "    print(numero)\n",
    "    numero -= 1\n",
    "print(\"Despegue!\")"
   ]
  },
  {
   "cell_type": "markdown",
   "metadata": {},
   "source": [
    "## Break y continue\n",
    "\n",
    "Las estructuras de flujo iterativo que nos permiten frenarlas desde el código. Para ello utilizamos las palabras `break` o `continue`."
   ]
  },
  {
   "cell_type": "code",
   "execution_count": 16,
   "metadata": {},
   "outputs": [
    {
     "name": "stdout",
     "output_type": "stream",
     "text": [
      "8\n",
      "7\n",
      "6\n",
      "5\n",
      "4\n",
      "3\n",
      "2\n",
      "1\n"
     ]
    }
   ],
   "source": [
    "# Pido un número de iteraciones al usuario\n",
    "numero = int(input(\"Ingrese el número de iteraciones: \"))\n",
    "\n",
    "while numero > 0:\n",
    "    # Si es mayor a 10\n",
    "    if numero > 10:\n",
    "        # Le decimos al usuario que son demasiadas\n",
    "        print(\"Son demasiadas iteraciones para imprimir\")\n",
    "        # Y frenamos el while\n",
    "        break\n",
    "    # Imprimimos x\n",
    "    print(numero)\n",
    "    # Restamos uno al numero\n",
    "    numero -= 1"
   ]
  },
  {
   "cell_type": "code",
   "execution_count": 17,
   "metadata": {},
   "outputs": [
    {
     "name": "stdout",
     "output_type": "stream",
     "text": [
      "a\n",
      "x\n",
      "o\n",
      "l\n",
      "o\n"
     ]
    }
   ],
   "source": [
    "# También podemos interrumpir con strings\n",
    "mascota = input(\"Indique su mascota: \")\n",
    "\n",
    "for l in mascota:\n",
    "    if l == \"t\":\n",
    "        break\n",
    "    print(l)"
   ]
  },
  {
   "cell_type": "code",
   "execution_count": 18,
   "metadata": {},
   "outputs": [
    {
     "name": "stdout",
     "output_type": "stream",
     "text": [
      "1\n",
      "3\n",
      "5\n",
      "7\n",
      "9\n"
     ]
    }
   ],
   "source": [
    "# Por cada i en el rango 0 a 10\n",
    "for i in range(0, 10):\n",
    "    # Si el resto de dividir por dos es 0\n",
    "    if i % 2 == 0:\n",
    "        # Salteamos la iteración\n",
    "        continue\n",
    "    # imprimimos i\n",
    "    print(i)"
   ]
  },
  {
   "cell_type": "markdown",
   "metadata": {},
   "source": [
    "## Mini desafío 4\n",
    "\n",
    "Realizar un programa que únicamente imprima las vocales de una palabra ingresada por el usuario"
   ]
  },
  {
   "cell_type": "code",
   "execution_count": 24,
   "metadata": {},
   "outputs": [
    {
     "name": "stdout",
     "output_type": "stream",
     "text": [
      "z\n",
      "p\n",
      "l\n",
      "l\n"
     ]
    }
   ],
   "source": [
    "palabra = input(\"Escriba una palabra: \")\n",
    "\n",
    "# Iteramos a través de cada letra en la palabra\n",
    "for l in palabra:\n",
    "    # Verificamos si la letra es una vocal (a, e, i, o, u)\n",
    "    if l in 'aeiou':\n",
    "        # Si es una vocal, la imprimimos\n",
    "        print(l)"
   ]
  },
  {
   "cell_type": "markdown",
   "metadata": {},
   "source": [
    "# Strings"
   ]
  },
  {
   "cell_type": "code",
   "execution_count": 25,
   "metadata": {},
   "outputs": [
    {
     "name": "stdout",
     "output_type": "stream",
     "text": [
      "o\n"
     ]
    }
   ],
   "source": [
    "indice = 1\n",
    "cadena = \"hola\"\n",
    "print(cadena[indice])"
   ]
  },
  {
   "cell_type": "code",
   "execution_count": 27,
   "metadata": {},
   "outputs": [
    {
     "data": {
      "text/plain": [
       "1"
      ]
     },
     "execution_count": 27,
     "metadata": {},
     "output_type": "execute_result"
    }
   ],
   "source": [
    "# Si quiero ubicar la ubicación de una palabra puedo usar el siguiente método\n",
    "cadena = \"hola\"\n",
    "cadena.index(\"o\")"
   ]
  },
  {
   "cell_type": "code",
   "execution_count": 28,
   "metadata": {},
   "outputs": [
    {
     "data": {
      "text/plain": [
       "6"
      ]
     },
     "execution_count": 28,
     "metadata": {},
     "output_type": "execute_result"
    }
   ],
   "source": [
    "# Si quiero que busca de derecha a izquierda\n",
    "cadena = \"palabra\"\n",
    "cadena.rindex(\"a\")"
   ]
  },
  {
   "cell_type": "code",
   "execution_count": 29,
   "metadata": {},
   "outputs": [
    {
     "data": {
      "text/plain": [
       "3"
      ]
     },
     "execution_count": 29,
     "metadata": {},
     "output_type": "execute_result"
    }
   ],
   "source": [
    "# Si quiero que busca de derecha a izquierda\n",
    "cadena = \"palabra\"\n",
    "cadena.index(\"a\", 2) # que busqe a partir de la ubicación 2"
   ]
  },
  {
   "cell_type": "code",
   "execution_count": 30,
   "metadata": {},
   "outputs": [
    {
     "data": {
      "text/plain": [
       "3"
      ]
     },
     "execution_count": 30,
     "metadata": {},
     "output_type": "execute_result"
    }
   ],
   "source": [
    "# Si quiero que busca de derecha a izquierda\n",
    "cadena = \"palabra\"\n",
    "cadena.index(\"a\", 2, 6) # que busqe a partir de la ubicación 2 hasta la 6"
   ]
  },
  {
   "cell_type": "code",
   "execution_count": 34,
   "metadata": {},
   "outputs": [
    {
     "data": {
      "text/plain": [
       "12"
      ]
     },
     "execution_count": 34,
     "metadata": {},
     "output_type": "execute_result"
    }
   ],
   "source": [
    "# En qué índice comienza la palabra \"prueba\"\n",
    "cadena = \"Esta es una prueba\"\n",
    "cadena.index(\"prueba\")"
   ]
  },
  {
   "cell_type": "code",
   "execution_count": 35,
   "metadata": {},
   "outputs": [
    {
     "name": "stdout",
     "output_type": "stream",
     "text": [
      "17\n"
     ]
    }
   ],
   "source": [
    "# Cual será la salida del código?\n",
    "cadena = \"Hola, como estas?\"\n",
    "\n",
    "print(len(cadena))"
   ]
  },
  {
   "cell_type": "code",
   "execution_count": 36,
   "metadata": {},
   "outputs": [
    {
     "name": "stdout",
     "output_type": "stream",
     "text": [
      "7\n"
     ]
    }
   ],
   "source": [
    "entrada = input()\n",
    "print(len(entrada))"
   ]
  },
  {
   "cell_type": "code",
   "execution_count": 39,
   "metadata": {},
   "outputs": [
    {
     "name": "stdout",
     "output_type": "stream",
     "text": [
      "Tu palabra tiene 7 caracteres\n"
     ]
    }
   ],
   "source": [
    "entrada = input(\"Escribi una palabra: \")\n",
    "print(f\"Tu palabra tiene {len(entrada)} caracteres\")"
   ]
  },
  {
   "cell_type": "markdown",
   "metadata": {},
   "source": [
    "## Operaciones con strings\n",
    "\n",
    "### Concatenación (suma)"
   ]
  },
  {
   "cell_type": "code",
   "execution_count": 37,
   "metadata": {},
   "outputs": [
    {
     "name": "stdout",
     "output_type": "stream",
     "text": [
      "hola\n"
     ]
    }
   ],
   "source": [
    "a = \"ho\"\n",
    "b = \"la\"\n",
    "\n",
    "# Concateno las dos cadenas\n",
    "c = a + b\n",
    "\n",
    "# Vemos el resultado\n",
    "print(c)"
   ]
  },
  {
   "cell_type": "markdown",
   "metadata": {},
   "source": [
    "### Multiplicación"
   ]
  },
  {
   "cell_type": "code",
   "execution_count": 40,
   "metadata": {},
   "outputs": [
    {
     "name": "stdout",
     "output_type": "stream",
     "text": [
      "hohoho\n"
     ]
    }
   ],
   "source": [
    "a = \"ho\"\n",
    "n = 3\n",
    "\n",
    "# Multiplico el string\n",
    "c = n*a\n",
    "# Vemos el resultado\n",
    "print(c)"
   ]
  },
  {
   "cell_type": "markdown",
   "metadata": {},
   "source": [
    "### Función contiene `in`"
   ]
  },
  {
   "cell_type": "code",
   "execution_count": 41,
   "metadata": {},
   "outputs": [
    {
     "name": "stdout",
     "output_type": "stream",
     "text": [
      "True\n"
     ]
    }
   ],
   "source": [
    "a = \"ol\"\n",
    "b = \"Hola\"\n",
    "\n",
    "# Pregunto si 'a' está en 'b'\"Clase 2 - Sergio Garcia Mora.ipynb\"\n",
    "c = a in b\n",
    "# Veamos el resultado\n",
    "print(c)"
   ]
  },
  {
   "cell_type": "markdown",
   "metadata": {},
   "source": [
    "## Caracteres blancos\n",
    "\n",
    "Salto de línea"
   ]
  },
  {
   "cell_type": "code",
   "execution_count": 42,
   "metadata": {},
   "outputs": [
    {
     "name": "stdout",
     "output_type": "stream",
     "text": [
      "Hola cómo estás?\n",
      "Mi nombre es Juan y te llamo desde la empresa para ...\n"
     ]
    }
   ],
   "source": [
    "cadena = \"Hola cómo estás?\\nMi nombre es Juan y te llamo desde la empresa para ...\"\n",
    "print(cadena)"
   ]
  },
  {
   "cell_type": "markdown",
   "metadata": {},
   "source": [
    "Usar texto entre comillas"
   ]
  },
  {
   "cell_type": "code",
   "execution_count": 44,
   "metadata": {},
   "outputs": [
    {
     "name": "stdout",
     "output_type": "stream",
     "text": [
      "Hola cómo estás?\n",
      "Mi nombre es \"Juan\" y te llamo desde la empresa para ...\n"
     ]
    }
   ],
   "source": [
    "cadena = \"Hola cómo estás?\\nMi nombre es \\\"Juan\\\" y te llamo desde la empresa para ...\"\n",
    "print(cadena)"
   ]
  },
  {
   "cell_type": "markdown",
   "metadata": {},
   "source": [
    "Tabulación"
   ]
  },
  {
   "cell_type": "code",
   "execution_count": 45,
   "metadata": {},
   "outputs": [
    {
     "name": "stdout",
     "output_type": "stream",
     "text": [
      "Hola cómo estás?\tMi nombre es \"Juan#\" y te llamo desde la empresa para ...\n"
     ]
    }
   ],
   "source": [
    "cadena = \"Hola cómo estás?\\tMi nombre es \\\"Juan\\\" y te llamo desde la empresa para ...\"\n",
    "print(cadena)"
   ]
  },
  {
   "cell_type": "markdown",
   "metadata": {},
   "source": [
    "Imprimir una barra invertida"
   ]
  },
  {
   "cell_type": "code",
   "execution_count": 46,
   "metadata": {},
   "outputs": [
    {
     "name": "stdout",
     "output_type": "stream",
     "text": [
      "Hola cómo estás?\n",
      "Mi nombre es \"Juan\" \t \\y te llamo desde la empresa para ...\n"
     ]
    }
   ],
   "source": [
    "cadena = \"Hola cómo estás?\\nMi nombre es \\\"Juan\\\" \\t \\\\y te llamo desde la empresa para ...\"\n",
    "print(cadena)"
   ]
  },
  {
   "cell_type": "code",
   "execution_count": null,
   "metadata": {},
   "outputs": [],
   "source": [
    "## Funciones de strings"
   ]
  },
  {
   "cell_type": "code",
   "execution_count": 47,
   "metadata": {},
   "outputs": [
    {
     "name": "stdout",
     "output_type": "stream",
     "text": [
      "hola\n",
      "Hola\n"
     ]
    }
   ],
   "source": [
    "cadena = \"hola\"\n",
    "\n",
    "# Capitalizamos la cadena\n",
    "cadena2 = cadena.capitalize()\n",
    "print(cadena)\n",
    "print(cadena2)"
   ]
  },
  {
   "cell_type": "markdown",
   "metadata": {},
   "source": [
    "Buscar en el texto el índice de una palabra o letra"
   ]
  },
  {
   "cell_type": "code",
   "execution_count": 51,
   "metadata": {},
   "outputs": [
    {
     "name": "stdout",
     "output_type": "stream",
     "text": [
      "6\n",
      "6\n"
     ]
    }
   ],
   "source": [
    "cadena = \"Hola, cómo estás?\"\n",
    "indice = cadena.find(\"cómo\")\n",
    "\n",
    "print(indice)\n",
    "\n",
    "# Una función análoga es index\n",
    "indice2 = cadena.index(\"cómo\")\n",
    "print(indice2)"
   ]
  },
  {
   "cell_type": "code",
   "execution_count": 50,
   "metadata": {},
   "outputs": [
    {
     "name": "stdout",
     "output_type": "stream",
     "text": [
      "-1\n"
     ]
    }
   ],
   "source": [
    "cadena = \"Hola, como estas?\"\n",
    "indice = cadena.find(\"Como\")\n",
    "\n",
    "print(indice)\n",
    "\n",
    "# La ventaja de 'find' es que cuando no encuentra el string que pedimos devuelve un -1 en vez de un error"
   ]
  },
  {
   "cell_type": "code",
   "execution_count": 57,
   "metadata": {},
   "outputs": [
    {
     "ename": "SyntaxError",
     "evalue": "invalid syntax (125798666.py, line 5)",
     "output_type": "error",
     "traceback": [
      "\u001b[1;36m  Cell \u001b[1;32mIn[57], line 5\u001b[1;36m\u001b[0m\n\u001b[1;33m    class(metodos)\u001b[0m\n\u001b[1;37m         ^\u001b[0m\n\u001b[1;31mSyntaxError\u001b[0m\u001b[1;31m:\u001b[0m invalid syntax\n"
     ]
    }
   ],
   "source": [
    "prueba = \"Estamos aprendiendo Python en el ITBA\"\n",
    "metodos = prueba.split()\n",
    "print(metodos)\n"
   ]
  },
  {
   "cell_type": "code",
   "execution_count": 58,
   "metadata": {},
   "outputs": [
    {
     "name": "stdout",
     "output_type": "stream",
     "text": [
      "Estam0s aprendiend0 Pyth0n en el ITBA\n"
     ]
    }
   ],
   "source": [
    "prueba = \"Estamos aprendiendo Python en el ITBA\"\n",
    "metodos = prueba.replace(\"o\", \"0\")\n",
    "print(metodos)"
   ]
  },
  {
   "cell_type": "markdown",
   "metadata": {},
   "source": [
    "# Acceso a archivos\n",
    "\n",
    "Para trabajar con archivos vamos a utilizar una estructura que nos facilita su manipulación y lectura.\n",
    "\n",
    "```python\n",
    "with open(\"/ruta/del/archivo/\", modo_de_acceso) as fp:\n",
    "    # lo que necesite hacer con el archivo\n",
    "    ...\n",
    "```\n",
    "\n",
    "Algunos modos de acceso disponibles son:\n",
    "\n",
    "\n",
    "*   `\"r\"`: Lectura.\n",
    "*   `\"w\"`: Escritura.\n",
    "*   `\"rw\"`: Lectura y escritura.\n",
    "*   `\"rb\"`: Lectura binaria.\n",
    "*   `\"wb\"`: Escritura binaria.\n",
    "\n",
    "Pueden ver todos en este [link](https://docs.python.org/3/library/functions.html#open).\n",
    "\n",
    "Veamos un ejemplo de escritura:\n"
   ]
  },
  {
   "cell_type": "code",
   "execution_count": 62,
   "metadata": {},
   "outputs": [],
   "source": [
    "with open(\"archivo.txt\", \"w\") as fp:\n",
    "    # Escribo un texto en fp\n",
    "    fp.write(\"Hola, cómo estás?\\nCansado\")"
   ]
  }
 ],
 "metadata": {
  "kernelspec": {
   "display_name": "base",
   "language": "python",
   "name": "python3"
  },
  "language_info": {
   "codemirror_mode": {
    "name": "ipython",
    "version": 3
   },
   "file_extension": ".py",
   "mimetype": "text/x-python",
   "name": "python",
   "nbconvert_exporter": "python",
   "pygments_lexer": "ipython3",
   "version": "3.11.5"
  }
 },
 "nbformat": 4,
 "nbformat_minor": 2
}
